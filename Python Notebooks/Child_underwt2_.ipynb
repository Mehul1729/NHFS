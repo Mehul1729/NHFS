{
 "cells": [
  {
   "cell_type": "markdown",
   "metadata": {},
   "source": [
    "# Getting Started:\n",
    "\n",
    "### Identiyfing the factors affecting the % of Children wasted and % of Underweight Children using features related to Mothers and Girls\n",
    "### through NHFS Data\n",
    "\n",
    "Children Wasted:\n",
    "\n",
    "According to [WHO](https://www.who.int/data/gho/indicator-metadata-registry/imr-details/302) , Child wasting refers to a child who is too thin for his or her height and is the result of recent rapid weight loss or the failure to gain weight. A child who is moderately or severely wasted has an increased risk of death, but treatment is possible. Child wasting is one of the World Health Assembly nutrition target indicators. \n",
    "\n",
    "[WHO](https://www.who.int/data/gho/indicator-metadata-registry/imr-details/27)\n",
    "defines prevalence of underweight (weight-for-age <-2 standard deviation from the median of the World Health Organization (WHO) Child Growth Standards) among children under 5 years of age.\n",
    "\n"
   ]
  },
  {
   "cell_type": "markdown",
   "metadata": {},
   "source": [
    "## Importing the libraries and Datasets"
   ]
  },
  {
   "cell_type": "code",
   "execution_count": 14,
   "metadata": {},
   "outputs": [],
   "source": [
    "# Array and Dataframe Operations:\n",
    "import numpy as np\n",
    "import pandas as pd\n",
    "\n",
    "# Data Visualization:\n",
    "import seaborn as sns\n",
    "from matplotlib import pyplot as plt\n",
    "\n",
    "# Models:\n",
    "from sklearn.linear_model import LinearRegression,Ridge,Lasso,ElasticNet\n",
    "from sklearn.ensemble import RandomForestClassifier,GradientBoostingClassifier\n",
    "from sklearn.svm import SVC\n",
    "from sklearn.linear_model import LogisticRegression\n",
    "from sklearn.ensemble import GradientBoostingRegressor, RandomForestRegressor\n",
    "\n",
    "# Data Engineering and Preprocessing:\n",
    "from sklearn.preprocessing import LabelEncoder\n",
    "from sklearn.model_selection import train_test_split\n",
    "from sklearn.impute import SimpleImputer\n",
    "from sklearn.preprocessing import MinMaxScaler\n",
    "from sklearn.preprocessing import RobustScaler\n",
    "\n",
    "\n",
    "# Metrics:\n",
    "from sklearn.metrics import r2_score\n",
    "from sklearn.metrics import accuracy_score\n"
   ]
  },
  {
   "cell_type": "code",
   "execution_count": 15,
   "metadata": {},
   "outputs": [
    {
     "name": "stdout",
     "output_type": "stream",
     "text": [
      "Notebook Child_underwt.ipynb has been successfully validated and fixed.\n"
     ]
    }
   ],
   "source": [
    "import nbformat\n",
    "\n",
    "notebook_path = 'Child_underwt.ipynb'\n",
    "\n",
    "try:\n",
    "    # Read the notebook\n",
    "    with open(notebook_path, 'r', encoding='utf-8') as f:\n",
    "        notebook = nbformat.read(f, as_version=4)\n",
    "\n",
    "    # Write the notebook back (this will re-format it correctly)\n",
    "    with open(notebook_path, 'w', encoding='utf-8') as f:\n",
    "        nbformat.write(notebook, f)\n",
    "    print(f\"Notebook {notebook_path} has been successfully validated and fixed.\")\n",
    "except Exception as e:\n",
    "    print(f\"An error occurred: {e}\")\n"
   ]
  },
  {
   "cell_type": "code",
   "execution_count": 16,
   "metadata": {},
   "outputs": [],
   "source": [
    "childdf = pd.read_csv(\"C:\\\\Users\\\\mehul\\\\MyLab\\\\NHFS Research\\\\Python Notebooks\\\\childdf.csv\")\n",
    "femaledf = pd.read_csv(\"C:\\\\Users\\\\mehul\\\\MyLab\\\\NHFS Research\\\\Python Notebooks\\\\femaledf.csv\")"
   ]
  },
  {
   "cell_type": "code",
   "execution_count": 17,
   "metadata": {},
   "outputs": [
    {
     "data": {
      "text/html": [
       "<div>\n",
       "<style scoped>\n",
       "    .dataframe tbody tr th:only-of-type {\n",
       "        vertical-align: middle;\n",
       "    }\n",
       "\n",
       "    .dataframe tbody tr th {\n",
       "        vertical-align: top;\n",
       "    }\n",
       "\n",
       "    .dataframe thead th {\n",
       "        text-align: right;\n",
       "    }\n",
       "</style>\n",
       "<table border=\"1\" class=\"dataframe\">\n",
       "  <thead>\n",
       "    <tr style=\"text-align: right;\">\n",
       "      <th></th>\n",
       "      <th>Total children age 6-23 months receiving an adequate diet16, 17  (%)</th>\n",
       "      <th>Children under 5 years who are stunted (height-for-age)18 (%)</th>\n",
       "      <th>Children under 5 years who are wasted (weight-for-height)18 (%)</th>\n",
       "      <th>Children under 5 years who are severely wasted (weight-for-height)19 (%)</th>\n",
       "      <th>Children under 5 years who are underweight (weight-for-age)18 (%)</th>\n",
       "      <th>Children under 5 years who are overweight (weight-for-height)20 (%)</th>\n",
       "      <th>Children age 6-59 months who are anaemic (&lt;11.0 g/dl)22 (%)</th>\n",
       "      <th>Children Prevalence of symptoms of acute respiratory infection (ARI) in the 2 weeks preceding the survey (Children under age 5 years) (%)</th>\n",
       "      <th>Prevalence of diarrhoea in the 2 weeks preceding the survey (Children under age 5 years) (%)</th>\n",
       "    </tr>\n",
       "  </thead>\n",
       "  <tbody>\n",
       "    <tr>\n",
       "      <th>0</th>\n",
       "      <td>18.7</td>\n",
       "      <td>21.6</td>\n",
       "      <td>15.7</td>\n",
       "      <td>24.6</td>\n",
       "      <td>24.6</td>\n",
       "      <td>1.5</td>\n",
       "      <td>37.7</td>\n",
       "      <td>1.8</td>\n",
       "      <td>5.7</td>\n",
       "    </tr>\n",
       "    <tr>\n",
       "      <th>1</th>\n",
       "      <td>5.9</td>\n",
       "      <td>27.0</td>\n",
       "      <td>27.0</td>\n",
       "      <td>42.8</td>\n",
       "      <td>42.8</td>\n",
       "      <td>0.8</td>\n",
       "      <td>30.4</td>\n",
       "      <td>7.0</td>\n",
       "      <td>4.5</td>\n",
       "    </tr>\n",
       "    <tr>\n",
       "      <th>2</th>\n",
       "      <td>23.5</td>\n",
       "      <td>21.1</td>\n",
       "      <td>12.6</td>\n",
       "      <td>17.4</td>\n",
       "      <td>17.4</td>\n",
       "      <td>7.2</td>\n",
       "      <td>43.4</td>\n",
       "      <td>0.0</td>\n",
       "      <td>6.0</td>\n",
       "    </tr>\n",
       "    <tr>\n",
       "      <th>3</th>\n",
       "      <td>16.1</td>\n",
       "      <td>19.7</td>\n",
       "      <td>19.5</td>\n",
       "      <td>21.4</td>\n",
       "      <td>21.4</td>\n",
       "      <td>4.5</td>\n",
       "      <td>59.6</td>\n",
       "      <td>1.3</td>\n",
       "      <td>11.9</td>\n",
       "    </tr>\n",
       "    <tr>\n",
       "      <th>4</th>\n",
       "      <td>1.8</td>\n",
       "      <td>36.4</td>\n",
       "      <td>19.2</td>\n",
       "      <td>32.2</td>\n",
       "      <td>32.2</td>\n",
       "      <td>4.7</td>\n",
       "      <td>66.7</td>\n",
       "      <td>1.4</td>\n",
       "      <td>7.5</td>\n",
       "    </tr>\n",
       "  </tbody>\n",
       "</table>\n",
       "</div>"
      ],
      "text/plain": [
       "   Total children age 6-23 months receiving an adequate diet16, 17  (%)  \\\n",
       "0                                               18.7                      \n",
       "1                                                5.9                      \n",
       "2                                               23.5                      \n",
       "3                                               16.1                      \n",
       "4                                                1.8                      \n",
       "\n",
       "   Children under 5 years who are stunted (height-for-age)18 (%)  \\\n",
       "0                                               21.6               \n",
       "1                                               27.0               \n",
       "2                                               21.1               \n",
       "3                                               19.7               \n",
       "4                                               36.4               \n",
       "\n",
       "   Children under 5 years who are wasted (weight-for-height)18 (%)  \\\n",
       "0                                               15.7                 \n",
       "1                                               27.0                 \n",
       "2                                               12.6                 \n",
       "3                                               19.5                 \n",
       "4                                               19.2                 \n",
       "\n",
       "   Children under 5 years who are severely wasted (weight-for-height)19 (%)  \\\n",
       "0                                               24.6                          \n",
       "1                                               42.8                          \n",
       "2                                               17.4                          \n",
       "3                                               21.4                          \n",
       "4                                               32.2                          \n",
       "\n",
       "   Children under 5 years who are underweight (weight-for-age)18 (%)  \\\n",
       "0                                               24.6                   \n",
       "1                                               42.8                   \n",
       "2                                               17.4                   \n",
       "3                                               21.4                   \n",
       "4                                               32.2                   \n",
       "\n",
       "   Children under 5 years who are overweight (weight-for-height)20 (%)  \\\n",
       "0                                                1.5                     \n",
       "1                                                0.8                     \n",
       "2                                                7.2                     \n",
       "3                                                4.5                     \n",
       "4                                                4.7                     \n",
       "\n",
       "   Children age 6-59 months who are anaemic (<11.0 g/dl)22 (%)  \\\n",
       "0                                               37.7             \n",
       "1                                               30.4             \n",
       "2                                               43.4             \n",
       "3                                               59.6             \n",
       "4                                               66.7             \n",
       "\n",
       "   Children Prevalence of symptoms of acute respiratory infection (ARI) in the 2 weeks preceding the survey (Children under age 5 years) (%)   \\\n",
       "0                                                1.8                                                                                            \n",
       "1                                                7.0                                                                                            \n",
       "2                                                0.0                                                                                            \n",
       "3                                                1.3                                                                                            \n",
       "4                                                1.4                                                                                            \n",
       "\n",
       "   Prevalence of diarrhoea in the 2 weeks preceding the survey (Children under age 5 years) (%)   \n",
       "0                                                5.7                                              \n",
       "1                                                4.5                                              \n",
       "2                                                6.0                                              \n",
       "3                                               11.9                                              \n",
       "4                                                7.5                                              "
      ]
     },
     "execution_count": 17,
     "metadata": {},
     "output_type": "execute_result"
    }
   ],
   "source": [
    "childdf.head()"
   ]
  },
  {
   "cell_type": "code",
   "execution_count": 18,
   "metadata": {},
   "outputs": [
    {
     "name": "stdout",
     "output_type": "stream",
     "text": [
      "<class 'pandas.core.frame.DataFrame'>\n",
      "RangeIndex: 707 entries, 0 to 706\n",
      "Data columns (total 9 columns):\n",
      " #   Column                                                                                                                                      Non-Null Count  Dtype  \n",
      "---  ------                                                                                                                                      --------------  -----  \n",
      " 0   Total children age 6-23 months receiving an adequate diet16, 17  (%)                                                                        706 non-null    float64\n",
      " 1   Children under 5 years who are stunted (height-for-age)18 (%)                                                                               707 non-null    float64\n",
      " 2   Children under 5 years who are wasted (weight-for-height)18 (%)                                                                             707 non-null    float64\n",
      " 3   Children under 5 years who are severely wasted (weight-for-height)19 (%)                                                                    707 non-null    float64\n",
      " 4   Children under 5 years who are underweight (weight-for-age)18 (%)                                                                           707 non-null    float64\n",
      " 5   Children under 5 years who are overweight (weight-for-height)20 (%)                                                                         707 non-null    float64\n",
      " 6   Children age 6-59 months who are anaemic (<11.0 g/dl)22 (%)                                                                                 707 non-null    float64\n",
      " 7   Children Prevalence of symptoms of acute respiratory infection (ARI) in the 2 weeks preceding the survey (Children under age 5 years) (%)   707 non-null    float64\n",
      " 8   Prevalence of diarrhoea in the 2 weeks preceding the survey (Children under age 5 years) (%)                                                707 non-null    float64\n",
      "dtypes: float64(9)\n",
      "memory usage: 49.8 KB\n"
     ]
    }
   ],
   "source": [
    "childdf.info()"
   ]
  },
  {
   "cell_type": "code",
   "execution_count": 19,
   "metadata": {},
   "outputs": [],
   "source": [
    "target = childdf.iloc[:,3:5]"
   ]
  },
  {
   "cell_type": "code",
   "execution_count": 20,
   "metadata": {},
   "outputs": [
    {
     "data": {
      "text/html": [
       "<div>\n",
       "<style scoped>\n",
       "    .dataframe tbody tr th:only-of-type {\n",
       "        vertical-align: middle;\n",
       "    }\n",
       "\n",
       "    .dataframe tbody tr th {\n",
       "        vertical-align: top;\n",
       "    }\n",
       "\n",
       "    .dataframe thead th {\n",
       "        text-align: right;\n",
       "    }\n",
       "</style>\n",
       "<table border=\"1\" class=\"dataframe\">\n",
       "  <thead>\n",
       "    <tr style=\"text-align: right;\">\n",
       "      <th></th>\n",
       "      <th>Children under 5 years who are severely wasted (weight-for-height)19 (%)</th>\n",
       "      <th>Children under 5 years who are underweight (weight-for-age)18 (%)</th>\n",
       "    </tr>\n",
       "  </thead>\n",
       "  <tbody>\n",
       "    <tr>\n",
       "      <th>0</th>\n",
       "      <td>24.6</td>\n",
       "      <td>24.6</td>\n",
       "    </tr>\n",
       "    <tr>\n",
       "      <th>1</th>\n",
       "      <td>42.8</td>\n",
       "      <td>42.8</td>\n",
       "    </tr>\n",
       "    <tr>\n",
       "      <th>2</th>\n",
       "      <td>17.4</td>\n",
       "      <td>17.4</td>\n",
       "    </tr>\n",
       "    <tr>\n",
       "      <th>3</th>\n",
       "      <td>21.4</td>\n",
       "      <td>21.4</td>\n",
       "    </tr>\n",
       "    <tr>\n",
       "      <th>4</th>\n",
       "      <td>32.2</td>\n",
       "      <td>32.2</td>\n",
       "    </tr>\n",
       "  </tbody>\n",
       "</table>\n",
       "</div>"
      ],
      "text/plain": [
       "   Children under 5 years who are severely wasted (weight-for-height)19 (%)  \\\n",
       "0                                               24.6                          \n",
       "1                                               42.8                          \n",
       "2                                               17.4                          \n",
       "3                                               21.4                          \n",
       "4                                               32.2                          \n",
       "\n",
       "   Children under 5 years who are underweight (weight-for-age)18 (%)  \n",
       "0                                               24.6                  \n",
       "1                                               42.8                  \n",
       "2                                               17.4                  \n",
       "3                                               21.4                  \n",
       "4                                               32.2                  "
      ]
     },
     "execution_count": 20,
     "metadata": {},
     "output_type": "execute_result"
    }
   ],
   "source": [
    "target.head()"
   ]
  },
  {
   "cell_type": "code",
   "execution_count": 21,
   "metadata": {},
   "outputs": [
    {
     "name": "stdout",
     "output_type": "stream",
     "text": [
      "<class 'pandas.core.frame.DataFrame'>\n",
      "RangeIndex: 707 entries, 0 to 706\n",
      "Data columns (total 47 columns):\n",
      " #   Column                                                                                                                                                                          Non-Null Count  Dtype  \n",
      "---  ------                                                                                                                                                                          --------------  -----  \n",
      " 0   District Names                                                                                                                                                                  707 non-null    object \n",
      " 1   State/UT                                                                                                                                                                        707 non-null    object \n",
      " 2   Female_school ever %                                                                                                                                                            707 non-null    float64\n",
      " 3   population % electricity                                                                                                                                                        707 non-null    float64\n",
      " 4   drinking water %                                                                                                                                                                707 non-null    float64\n",
      " 5   sanitation %                                                                                                                                                                    707 non-null    float64\n",
      " 6   clean fuel %                                                                                                                                                                    707 non-null    float64\n",
      " 7   iodized salt %                                                                                                                                                                  707 non-null    float64\n",
      " 8   Health insurance/finance scheme %                                                                                                                                               707 non-null    float64\n",
      " 9   Women literacy %                                                                                                                                                                707 non-null    float64\n",
      " 10  Women (age 15-49)  with 10 or more years of schooling (%)                                                                                                                       707 non-null    float64\n",
      " 11  women child marriage %                                                                                                                                                          707 non-null    float64\n",
      " 12  Births in the 5 years preceding the survey that are third or higher order (%)                                                                                                   706 non-null    float64\n",
      " 13  Women menstural hygiene                                                                                                                                                         707 non-null    float64\n",
      " 14  Family planning methods %                                                                                                                                                       707 non-null    float64\n",
      " 15  Current Use of Family Planning Methods (Currently Married Women Age 15-49  years) - Any modern method6 (%)                                                                      707 non-null    float64\n",
      " 16  Current Use of Family Planning Methods (Currently Married Women Age 15-49  years) - Female sterilization (%)                                                                    707 non-null    float64\n",
      " 17  Current Use of Family Planning Methods (Currently Married Women Age 15-49  years) - IUD/PPIUD (%)                                                                               707 non-null    float64\n",
      " 18  Current Use of Family Planning Methods (Currently Married Women Age 15-49  years) - Pill (%)                                                                                    707 non-null    float64\n",
      " 19  Total Unmet need for Family Planning (Currently Married Women Age 15-49  years)7 (%)                                                                                            707 non-null    float64\n",
      " 20  Unmet need for spacing (Currently Married Women Age 15-49  years)7 (%)                                                                                                          707 non-null    float64\n",
      " 21  Health worker ever talked to female non-users about family planning (%)                                                                                                         707 non-null    float64\n",
      " 22  Mothers who had at least 4 antenatal care visits  (for last birth in the 5 years before the survey) (%)                                                                         707 non-null    float64\n",
      " 23  Mothers whose last birth was protected against neonatal tetanus (for last birth in the 5 years before the survey)9 (%)                                                          707 non-null    float64\n",
      " 24  Mothers who consumed iron folic acid for 100 days or more when they were pregnant (for last birth in the 5 years before the survey) (%)                                         707 non-null    float64\n",
      " 25  Mothers who consumed iron folic acid for 180 days or more when they were pregnant (for last birth in the 5 years before the survey} (%)                                         707 non-null    float64\n",
      " 26  Registered pregnancies for which the mother received a Mother and Child Protection (MCP) card (for last birth in the 5 years before the survey) (%)                             707 non-null    float64\n",
      " 27  Mothers who received postnatal care from a doctor/nurse/LHV/ANM/midwife/other health personnel within 2 days of delivery (for last birth in the 5 years before the survey) (%)  707 non-null    float64\n",
      " 28  Average out-of-pocket expenditure per delivery in a public health facility (for last birth in the 5 years before the survey) (Rs.)                                              706 non-null    float64\n",
      " 29  Women (age 15-49 years) whose Body Mass Index (BMI) is below normal (BMI <18.5 kg/m2)21 (%)                                                                                     707 non-null    float64\n",
      " 30  Women (age 15-49 years) who are overweight or obese (BMI ?25.0 kg/m2)21 (%)                                                                                                     707 non-null    float64\n",
      " 31  Women (age 15-49 years) who have high risk waist-to-hip ratio (?0.85) (%)                                                                                                       707 non-null    float64\n",
      " 32  Non-pregnant women age 15-49 years who are anaemic (<12.0 g/dl)22 (%)                                                                                                           707 non-null    float64\n",
      " 33  Pregnant women age 15-49 years who are anaemic (<11.0 g/dl)22 (%)                                                                                                               573 non-null    float64\n",
      " 34  Anaemic women %                                                                                                                                                                 707 non-null    float64\n",
      " 35  All women age 15-19 years who are anaemic22 (%)                                                                                                                                 707 non-null    float64\n",
      " 36  Women  age 15 years and above with high (141-160 mg/dl) Blood sugar level23 (%)                                                                                                 707 non-null    float64\n",
      " 37  Women age 15 years and above wih very high (>160 mg/dl) Blood sugar level23 (%)                                                                                                 707 non-null    float64\n",
      " 38  Women high blood sugar %                                                                                                                                                        707 non-null    float64\n",
      " 39  Women age 15 years and above wih Mildly elevated blood pressure (Systolic 140-159 mm of Hg and/or Diastolic 90-99 mm of Hg) (%)                                                 707 non-null    float64\n",
      " 40  Women age 15 years and above wih Moderately or severely elevated blood pressure (Systolic ?160 mm of Hg and/or Diastolic ?100 mm of Hg) (%)                                     707 non-null    float64\n",
      " 41  Women age 15 years and above wih Elevated blood pressure (Systolic ?140 mm of Hg and/or Diastolic ?90 mm of Hg) or taking medicine to control blood pressure (%)                707 non-null    float64\n",
      " 42  Women (age 30-49 years) Ever undergone a screening test for cervical cancer (%)                                                                                                 707 non-null    float64\n",
      " 43  Women (age 30-49 years) Ever undergone a breast examination for breast cancer (%)                                                                                               707 non-null    float64\n",
      " 44  Women (age 30-49 years) Ever undergone an oral cavity examination for oral cancer (%)                                                                                           707 non-null    float64\n",
      " 45  Women age 15 years and above who use any kind of tobacco (%)                                                                                                                    707 non-null    float64\n",
      " 46  Women Alcohol %                                                                                                                                                                 707 non-null    float64\n",
      "dtypes: float64(45), object(2)\n",
      "memory usage: 259.7+ KB\n"
     ]
    }
   ],
   "source": [
    "femaledf.info()"
   ]
  },
  {
   "cell_type": "code",
   "execution_count": 22,
   "metadata": {},
   "outputs": [
    {
     "name": "stdout",
     "output_type": "stream",
     "text": [
      "['District Names', 'State/UT', 'Female_school ever %', 'population % electricity', 'drinking water %', 'sanitation %', 'clean fuel %', 'iodized salt %', 'Health insurance/finance scheme %', 'Women literacy %', 'Women (age 15-49)  with 10 or more years of schooling (%)', 'women child marriage %', 'Births in the 5 years preceding the survey that are third or higher order (%)', 'Women menstural hygiene', 'Family planning methods %', 'Current Use of Family Planning Methods (Currently Married Women Age 15-49  years) - Any modern method6 (%)', 'Current Use of Family Planning Methods (Currently Married Women Age 15-49  years) - Female sterilization (%)', 'Current Use of Family Planning Methods (Currently Married Women Age 15-49  years) - IUD/PPIUD (%)', 'Current Use of Family Planning Methods (Currently Married Women Age 15-49  years) - Pill (%)', 'Total Unmet need for Family Planning (Currently Married Women Age 15-49  years)7 (%)', 'Unmet need for spacing (Currently Married Women Age 15-49  years)7 (%)', 'Health worker ever talked to female non-users about family planning (%)', 'Mothers who had at least 4 antenatal care visits  (for last birth in the 5 years before the survey) (%)', 'Mothers whose last birth was protected against neonatal tetanus (for last birth in the 5 years before the survey)9 (%)', 'Mothers who consumed iron folic acid for 100 days or more when they were pregnant (for last birth in the 5 years before the survey) (%)', 'Mothers who consumed iron folic acid for 180 days or more when they were pregnant (for last birth in the 5 years before the survey} (%)', 'Registered pregnancies for which the mother received a Mother and Child Protection (MCP) card (for last birth in the 5 years before the survey) (%)', 'Mothers who received postnatal care from a doctor/nurse/LHV/ANM/midwife/other health personnel within 2 days of delivery (for last birth in the 5 years before the survey) (%)', 'Average out-of-pocket expenditure per delivery in a public health facility (for last birth in the 5 years before the survey) (Rs.)', 'Women (age 15-49 years) whose Body Mass Index (BMI) is below normal (BMI <18.5 kg/m2)21 (%)', 'Women (age 15-49 years) who are overweight or obese (BMI ?25.0 kg/m2)21 (%)', 'Women (age 15-49 years) who have high risk waist-to-hip ratio (?0.85) (%)', 'Non-pregnant women age 15-49 years who are anaemic (<12.0 g/dl)22 (%)', 'Pregnant women age 15-49 years who are anaemic (<11.0 g/dl)22 (%)', 'Anaemic women %', 'All women age 15-19 years who are anaemic22 (%) ', 'Women  age 15 years and above with high (141-160 mg/dl) Blood sugar level23 (%)', 'Women age 15 years and above wih very high (>160 mg/dl) Blood sugar level23 (%)', 'Women high blood sugar %', 'Women age 15 years and above wih Mildly elevated blood pressure (Systolic 140-159 mm of Hg and/or Diastolic 90-99 mm of Hg) (%)', 'Women age 15 years and above wih Moderately or severely elevated blood pressure (Systolic ?160 mm of Hg and/or Diastolic ?100 mm of Hg) (%)', 'Women age 15 years and above wih Elevated blood pressure (Systolic ?140 mm of Hg and/or Diastolic ?90 mm of Hg) or taking medicine to control blood pressure (%)', 'Women (age 30-49 years) Ever undergone a screening test for cervical cancer (%)', 'Women (age 30-49 years) Ever undergone a breast examination for breast cancer (%)', 'Women (age 30-49 years) Ever undergone an oral cavity examination for oral cancer (%)', 'Women age 15 years and above who use any kind of tobacco (%)', 'Women Alcohol %']\n"
     ]
    }
   ],
   "source": [
    "l1 = []\n",
    "for i in femaledf.columns:\n",
    "    l1.append(i)\n",
    "print(l1)"
   ]
  },
  {
   "cell_type": "code",
   "execution_count": 23,
   "metadata": {},
   "outputs": [],
   "source": [
    "features = femaledf[['Female_school ever %','sanitation %','women child marriage %','Women menstural hygiene','Mothers who consumed iron folic acid for 180 days or more when they were pregnant (for last birth in the 5 years before the survey} (%)','Women (age 15-49 years) whose Body Mass Index (BMI) is below normal (BMI <18.5 kg/m2)21 (%)','Anaemic women %','Women age 15 years and above wih Elevated blood pressure (Systolic ?140 mm of Hg and/or Diastolic ?90 mm of Hg) or taking medicine to control blood pressure (%)','Births in the 5 years preceding the survey that are third or higher order (%)','Average out-of-pocket expenditure per delivery in a public health facility (for last birth in the 5 years before the survey) (Rs.)','Non-pregnant women age 15-49 years who are anaemic (<12.0 g/dl)22 (%)','All women age 15-19 years who are anaemic22 (%) ','Women Alcohol %','Women age 15 years and above who use any kind of tobacco (%)']]"
   ]
  },
  {
   "cell_type": "code",
   "execution_count": 24,
   "metadata": {},
   "outputs": [
    {
     "data": {
      "text/html": [
       "<div>\n",
       "<style scoped>\n",
       "    .dataframe tbody tr th:only-of-type {\n",
       "        vertical-align: middle;\n",
       "    }\n",
       "\n",
       "    .dataframe tbody tr th {\n",
       "        vertical-align: top;\n",
       "    }\n",
       "\n",
       "    .dataframe thead th {\n",
       "        text-align: right;\n",
       "    }\n",
       "</style>\n",
       "<table border=\"1\" class=\"dataframe\">\n",
       "  <thead>\n",
       "    <tr style=\"text-align: right;\">\n",
       "      <th></th>\n",
       "      <th>Female_school ever %</th>\n",
       "      <th>sanitation %</th>\n",
       "      <th>women child marriage %</th>\n",
       "      <th>Women menstural hygiene</th>\n",
       "      <th>Mothers who consumed iron folic acid for 180 days or more when they were pregnant (for last birth in the 5 years before the survey} (%)</th>\n",
       "      <th>Women (age 15-49 years) whose Body Mass Index (BMI) is below normal (BMI &lt;18.5 kg/m2)21 (%)</th>\n",
       "      <th>Anaemic women %</th>\n",
       "      <th>Women age 15 years and above wih Elevated blood pressure (Systolic ?140 mm of Hg and/or Diastolic ?90 mm of Hg) or taking medicine to control blood pressure (%)</th>\n",
       "      <th>Births in the 5 years preceding the survey that are third or higher order (%)</th>\n",
       "      <th>Average out-of-pocket expenditure per delivery in a public health facility (for last birth in the 5 years before the survey) (Rs.)</th>\n",
       "      <th>Non-pregnant women age 15-49 years who are anaemic (&lt;12.0 g/dl)22 (%)</th>\n",
       "      <th>All women age 15-19 years who are anaemic22 (%)</th>\n",
       "      <th>Women Alcohol %</th>\n",
       "      <th>Women age 15 years and above who use any kind of tobacco (%)</th>\n",
       "    </tr>\n",
       "  </thead>\n",
       "  <tbody>\n",
       "    <tr>\n",
       "      <th>0</th>\n",
       "      <td>78.0</td>\n",
       "      <td>83.5</td>\n",
       "      <td>11.4</td>\n",
       "      <td>100.0</td>\n",
       "      <td>43.9</td>\n",
       "      <td>8.2</td>\n",
       "      <td>38.3</td>\n",
       "      <td>35.4</td>\n",
       "      <td>0.0</td>\n",
       "      <td>2278.0</td>\n",
       "      <td>38.4</td>\n",
       "      <td>48.0</td>\n",
       "      <td>29.6</td>\n",
       "      <td>63.5</td>\n",
       "    </tr>\n",
       "    <tr>\n",
       "      <th>1</th>\n",
       "      <td>82.7</td>\n",
       "      <td>86.4</td>\n",
       "      <td>15.4</td>\n",
       "      <td>100.0</td>\n",
       "      <td>24.1</td>\n",
       "      <td>8.6</td>\n",
       "      <td>62.1</td>\n",
       "      <td>27.4</td>\n",
       "      <td>1.5</td>\n",
       "      <td>1904.0</td>\n",
       "      <td>62.5</td>\n",
       "      <td>47.8</td>\n",
       "      <td>5.1</td>\n",
       "      <td>46.8</td>\n",
       "    </tr>\n",
       "    <tr>\n",
       "      <th>2</th>\n",
       "      <td>84.7</td>\n",
       "      <td>89.3</td>\n",
       "      <td>17.1</td>\n",
       "      <td>98.2</td>\n",
       "      <td>61.9</td>\n",
       "      <td>10.0</td>\n",
       "      <td>57.7</td>\n",
       "      <td>23.0</td>\n",
       "      <td>0.5</td>\n",
       "      <td>3460.0</td>\n",
       "      <td>57.6</td>\n",
       "      <td>43.2</td>\n",
       "      <td>1.7</td>\n",
       "      <td>19.6</td>\n",
       "    </tr>\n",
       "    <tr>\n",
       "      <th>3</th>\n",
       "      <td>60.0</td>\n",
       "      <td>71.6</td>\n",
       "      <td>25.4</td>\n",
       "      <td>78.0</td>\n",
       "      <td>35.3</td>\n",
       "      <td>13.8</td>\n",
       "      <td>62.6</td>\n",
       "      <td>22.1</td>\n",
       "      <td>0.0</td>\n",
       "      <td>3479.0</td>\n",
       "      <td>62.8</td>\n",
       "      <td>59.2</td>\n",
       "      <td>0.6</td>\n",
       "      <td>7.1</td>\n",
       "    </tr>\n",
       "    <tr>\n",
       "      <th>4</th>\n",
       "      <td>56.0</td>\n",
       "      <td>61.7</td>\n",
       "      <td>33.7</td>\n",
       "      <td>72.5</td>\n",
       "      <td>32.4</td>\n",
       "      <td>16.9</td>\n",
       "      <td>64.0</td>\n",
       "      <td>25.2</td>\n",
       "      <td>2.2</td>\n",
       "      <td>1931.0</td>\n",
       "      <td>64.6</td>\n",
       "      <td>73.9</td>\n",
       "      <td>0.8</td>\n",
       "      <td>11.4</td>\n",
       "    </tr>\n",
       "  </tbody>\n",
       "</table>\n",
       "</div>"
      ],
      "text/plain": [
       "   Female_school ever %  sanitation %  women child marriage %  \\\n",
       "0                  78.0          83.5                    11.4   \n",
       "1                  82.7          86.4                    15.4   \n",
       "2                  84.7          89.3                    17.1   \n",
       "3                  60.0          71.6                    25.4   \n",
       "4                  56.0          61.7                    33.7   \n",
       "\n",
       "   Women menstural hygiene  \\\n",
       "0                    100.0   \n",
       "1                    100.0   \n",
       "2                     98.2   \n",
       "3                     78.0   \n",
       "4                     72.5   \n",
       "\n",
       "   Mothers who consumed iron folic acid for 180 days or more when they were pregnant (for last birth in the 5 years before the survey} (%)  \\\n",
       "0                                               43.9                                                                                         \n",
       "1                                               24.1                                                                                         \n",
       "2                                               61.9                                                                                         \n",
       "3                                               35.3                                                                                         \n",
       "4                                               32.4                                                                                         \n",
       "\n",
       "   Women (age 15-49 years) whose Body Mass Index (BMI) is below normal (BMI <18.5 kg/m2)21 (%)  \\\n",
       "0                                                8.2                                             \n",
       "1                                                8.6                                             \n",
       "2                                               10.0                                             \n",
       "3                                               13.8                                             \n",
       "4                                               16.9                                             \n",
       "\n",
       "   Anaemic women %  \\\n",
       "0             38.3   \n",
       "1             62.1   \n",
       "2             57.7   \n",
       "3             62.6   \n",
       "4             64.0   \n",
       "\n",
       "   Women age 15 years and above wih Elevated blood pressure (Systolic ?140 mm of Hg and/or Diastolic ?90 mm of Hg) or taking medicine to control blood pressure (%)  \\\n",
       "0                                               35.4                                                                                                                  \n",
       "1                                               27.4                                                                                                                  \n",
       "2                                               23.0                                                                                                                  \n",
       "3                                               22.1                                                                                                                  \n",
       "4                                               25.2                                                                                                                  \n",
       "\n",
       "   Births in the 5 years preceding the survey that are third or higher order (%)  \\\n",
       "0                                                0.0                               \n",
       "1                                                1.5                               \n",
       "2                                                0.5                               \n",
       "3                                                0.0                               \n",
       "4                                                2.2                               \n",
       "\n",
       "   Average out-of-pocket expenditure per delivery in a public health facility (for last birth in the 5 years before the survey) (Rs.)  \\\n",
       "0                                             2278.0                                                                                    \n",
       "1                                             1904.0                                                                                    \n",
       "2                                             3460.0                                                                                    \n",
       "3                                             3479.0                                                                                    \n",
       "4                                             1931.0                                                                                    \n",
       "\n",
       "   Non-pregnant women age 15-49 years who are anaemic (<12.0 g/dl)22 (%)  \\\n",
       "0                                               38.4                       \n",
       "1                                               62.5                       \n",
       "2                                               57.6                       \n",
       "3                                               62.8                       \n",
       "4                                               64.6                       \n",
       "\n",
       "   All women age 15-19 years who are anaemic22 (%)   Women Alcohol %  \\\n",
       "0                                              48.0             29.6   \n",
       "1                                              47.8              5.1   \n",
       "2                                              43.2              1.7   \n",
       "3                                              59.2              0.6   \n",
       "4                                              73.9              0.8   \n",
       "\n",
       "   Women age 15 years and above who use any kind of tobacco (%)  \n",
       "0                                               63.5             \n",
       "1                                               46.8             \n",
       "2                                               19.6             \n",
       "3                                                7.1             \n",
       "4                                               11.4             "
      ]
     },
     "execution_count": 24,
     "metadata": {},
     "output_type": "execute_result"
    }
   ],
   "source": [
    "features.head()"
   ]
  },
  {
   "cell_type": "markdown",
   "metadata": {},
   "source": [
    "# Data Preprocessing\n"
   ]
  },
  {
   "cell_type": "markdown",
   "metadata": {},
   "source": [
    "### Imputing the NaN values:"
   ]
  },
  {
   "cell_type": "code",
   "execution_count": 25,
   "metadata": {},
   "outputs": [],
   "source": [
    "imputer = SimpleImputer(strategy='mean')\n",
    "target_imp = pd.DataFrame(imputer.fit_transform(target), columns=target.columns)\n",
    "\n",
    "features_imp = pd.DataFrame(imputer.fit_transform(features), columns= features.columns)"
   ]
  },
  {
   "cell_type": "markdown",
   "metadata": {},
   "source": []
  },
  {
   "cell_type": "markdown",
   "metadata": {},
   "source": [
    "## Target1 : Severly Wasted %"
   ]
  },
  {
   "cell_type": "markdown",
   "metadata": {},
   "source": [
    "### Scaling the data:\n",
    "\n",
    "Robust Scaler : transform data and make it immune to outliers (But can have negative values).\n"
   ]
  },
  {
   "cell_type": "code",
   "execution_count": 26,
   "metadata": {},
   "outputs": [],
   "source": [
    "robust = RobustScaler()\n",
    "X = pd.DataFrame(robust.fit_transform(features_imp))\n",
    "y1 = pd.DataFrame(robust.fit_transform(pd.DataFrame(target_imp.iloc[:,0])))"
   ]
  },
  {
   "cell_type": "code",
   "execution_count": 38,
   "metadata": {},
   "outputs": [
    {
     "data": {
      "text/html": [
       "<div>\n",
       "<style scoped>\n",
       "    .dataframe tbody tr th:only-of-type {\n",
       "        vertical-align: middle;\n",
       "    }\n",
       "\n",
       "    .dataframe tbody tr th {\n",
       "        vertical-align: top;\n",
       "    }\n",
       "\n",
       "    .dataframe thead th {\n",
       "        text-align: right;\n",
       "    }\n",
       "</style>\n",
       "<table border=\"1\" class=\"dataframe\">\n",
       "  <thead>\n",
       "    <tr style=\"text-align: right;\">\n",
       "      <th></th>\n",
       "      <th>Children under 5 years who are severely wasted (weight-for-height)19 (%)</th>\n",
       "      <th>Children under 5 years who are underweight (weight-for-age)18 (%)</th>\n",
       "    </tr>\n",
       "  </thead>\n",
       "  <tbody>\n",
       "    <tr>\n",
       "      <th>0</th>\n",
       "      <td>24.6</td>\n",
       "      <td>24.6</td>\n",
       "    </tr>\n",
       "    <tr>\n",
       "      <th>1</th>\n",
       "      <td>42.8</td>\n",
       "      <td>42.8</td>\n",
       "    </tr>\n",
       "    <tr>\n",
       "      <th>2</th>\n",
       "      <td>17.4</td>\n",
       "      <td>17.4</td>\n",
       "    </tr>\n",
       "    <tr>\n",
       "      <th>3</th>\n",
       "      <td>21.4</td>\n",
       "      <td>21.4</td>\n",
       "    </tr>\n",
       "    <tr>\n",
       "      <th>4</th>\n",
       "      <td>32.2</td>\n",
       "      <td>32.2</td>\n",
       "    </tr>\n",
       "    <tr>\n",
       "      <th>...</th>\n",
       "      <td>...</td>\n",
       "      <td>...</td>\n",
       "    </tr>\n",
       "    <tr>\n",
       "      <th>702</th>\n",
       "      <td>32.2</td>\n",
       "      <td>32.2</td>\n",
       "    </tr>\n",
       "    <tr>\n",
       "      <th>703</th>\n",
       "      <td>40.0</td>\n",
       "      <td>40.0</td>\n",
       "    </tr>\n",
       "    <tr>\n",
       "      <th>704</th>\n",
       "      <td>30.6</td>\n",
       "      <td>30.6</td>\n",
       "    </tr>\n",
       "    <tr>\n",
       "      <th>705</th>\n",
       "      <td>41.0</td>\n",
       "      <td>41.0</td>\n",
       "    </tr>\n",
       "    <tr>\n",
       "      <th>706</th>\n",
       "      <td>31.6</td>\n",
       "      <td>31.6</td>\n",
       "    </tr>\n",
       "  </tbody>\n",
       "</table>\n",
       "<p>707 rows × 2 columns</p>\n",
       "</div>"
      ],
      "text/plain": [
       "     Children under 5 years who are severely wasted (weight-for-height)19 (%)  \\\n",
       "0                                                 24.6                          \n",
       "1                                                 42.8                          \n",
       "2                                                 17.4                          \n",
       "3                                                 21.4                          \n",
       "4                                                 32.2                          \n",
       "..                                                 ...                          \n",
       "702                                               32.2                          \n",
       "703                                               40.0                          \n",
       "704                                               30.6                          \n",
       "705                                               41.0                          \n",
       "706                                               31.6                          \n",
       "\n",
       "     Children under 5 years who are underweight (weight-for-age)18 (%)  \n",
       "0                                                 24.6                  \n",
       "1                                                 42.8                  \n",
       "2                                                 17.4                  \n",
       "3                                                 21.4                  \n",
       "4                                                 32.2                  \n",
       "..                                                 ...                  \n",
       "702                                               32.2                  \n",
       "703                                               40.0                  \n",
       "704                                               30.6                  \n",
       "705                                               41.0                  \n",
       "706                                               31.6                  \n",
       "\n",
       "[707 rows x 2 columns]"
      ]
     },
     "execution_count": 38,
     "metadata": {},
     "output_type": "execute_result"
    }
   ],
   "source": [
    "target_imp"
   ]
  },
  {
   "cell_type": "code",
   "execution_count": 28,
   "metadata": {},
   "outputs": [],
   "source": [
    "# Train test Split:\n",
    "\n",
    "X_train,X_test,y_train1,y_test1 = train_test_split(X,y1,test_size=0.2,random_state=2)"
   ]
  },
  {
   "cell_type": "code",
   "execution_count": 29,
   "metadata": {},
   "outputs": [
    {
     "data": {
      "text/plain": [
       "['Children under 5 years who are severely wasted (weight-for-height)19 (%)',\n",
       " 'Children under 5 years who are underweight (weight-for-age)18 (%)']"
      ]
     },
     "execution_count": 29,
     "metadata": {},
     "output_type": "execute_result"
    }
   ],
   "source": [
    "target_columns = list(target.columns)\n",
    "target_columns\n"
   ]
  },
  {
   "cell_type": "code",
   "execution_count": 30,
   "metadata": {},
   "outputs": [
    {
     "data": {
      "text/html": [
       "<div>\n",
       "<style scoped>\n",
       "    .dataframe tbody tr th:only-of-type {\n",
       "        vertical-align: middle;\n",
       "    }\n",
       "\n",
       "    .dataframe tbody tr th {\n",
       "        vertical-align: top;\n",
       "    }\n",
       "\n",
       "    .dataframe thead th {\n",
       "        text-align: right;\n",
       "    }\n",
       "</style>\n",
       "<table border=\"1\" class=\"dataframe\">\n",
       "  <thead>\n",
       "    <tr style=\"text-align: right;\">\n",
       "      <th></th>\n",
       "      <th>Children under 5 years who are severely wasted (weight-for-height)19 (%)</th>\n",
       "    </tr>\n",
       "  </thead>\n",
       "  <tbody>\n",
       "    <tr>\n",
       "      <th>107</th>\n",
       "      <td>-0.621908</td>\n",
       "    </tr>\n",
       "    <tr>\n",
       "      <th>399</th>\n",
       "      <td>-0.961131</td>\n",
       "    </tr>\n",
       "    <tr>\n",
       "      <th>221</th>\n",
       "      <td>-0.579505</td>\n",
       "    </tr>\n",
       "    <tr>\n",
       "      <th>37</th>\n",
       "      <td>0.424028</td>\n",
       "    </tr>\n",
       "    <tr>\n",
       "      <th>524</th>\n",
       "      <td>-0.996466</td>\n",
       "    </tr>\n",
       "    <tr>\n",
       "      <th>...</th>\n",
       "      <td>...</td>\n",
       "    </tr>\n",
       "    <tr>\n",
       "      <th>13</th>\n",
       "      <td>1.194346</td>\n",
       "    </tr>\n",
       "    <tr>\n",
       "      <th>634</th>\n",
       "      <td>0.607774</td>\n",
       "    </tr>\n",
       "    <tr>\n",
       "      <th>633</th>\n",
       "      <td>0.876325</td>\n",
       "    </tr>\n",
       "    <tr>\n",
       "      <th>40</th>\n",
       "      <td>0.353357</td>\n",
       "    </tr>\n",
       "    <tr>\n",
       "      <th>650</th>\n",
       "      <td>0.508834</td>\n",
       "    </tr>\n",
       "  </tbody>\n",
       "</table>\n",
       "<p>142 rows × 1 columns</p>\n",
       "</div>"
      ],
      "text/plain": [
       "     Children under 5 years who are severely wasted (weight-for-height)19 (%)\n",
       "107                                          -0.621908                       \n",
       "399                                          -0.961131                       \n",
       "221                                          -0.579505                       \n",
       "37                                            0.424028                       \n",
       "524                                          -0.996466                       \n",
       "..                                                 ...                       \n",
       "13                                            1.194346                       \n",
       "634                                           0.607774                       \n",
       "633                                           0.876325                       \n",
       "40                                            0.353357                       \n",
       "650                                           0.508834                       \n",
       "\n",
       "[142 rows x 1 columns]"
      ]
     },
     "execution_count": 30,
     "metadata": {},
     "output_type": "execute_result"
    }
   ],
   "source": [
    "# Renaming the columns of scaled Dfs:\n",
    "\n",
    "X_train.columns = features.columns\n",
    "X_test.columns = features.columns\n",
    "\n",
    "y_train1.rename(columns={0:'Children under 5 years who are severely wasted (weight-for-height)19 (%)'})\n",
    "y_test1.rename(columns = {0:'Children under 5 years who are severely wasted (weight-for-height)19 (%)'})"
   ]
  },
  {
   "cell_type": "markdown",
   "metadata": {},
   "source": [
    "### Model Training and Testing:\n"
   ]
  },
  {
   "cell_type": "code",
   "execution_count": 31,
   "metadata": {},
   "outputs": [
    {
     "name": "stderr",
     "output_type": "stream",
     "text": [
      "c:\\Users\\mehul\\anaconda3\\Lib\\site-packages\\sklearn\\ensemble\\_gb.py:437: DataConversionWarning: A column-vector y was passed when a 1d array was expected. Please change the shape of y to (n_samples, ), for example using ravel().\n",
      "  y = column_or_1d(y, warn=True)\n"
     ]
    },
    {
     "name": "stdout",
     "output_type": "stream",
     "text": [
      "0.6078693124173512 GBM\n"
     ]
    },
    {
     "name": "stderr",
     "output_type": "stream",
     "text": [
      "C:\\Users\\mehul\\AppData\\Local\\Temp\\ipykernel_16784\\1571587379.py:9: DataConversionWarning: A column-vector y was passed when a 1d array was expected. Please change the shape of y to (n_samples,), for example using ravel().\n",
      "  rf.fit(X_train,y_train1)\n"
     ]
    },
    {
     "name": "stdout",
     "output_type": "stream",
     "text": [
      "0.5984252114277079 RF\n"
     ]
    }
   ],
   "source": [
    "# Gradient Boosting Regressor:\n",
    "gbm = GradientBoostingRegressor()\n",
    "gbm.fit(X_train,y_train1)\n",
    "y_pred1 = gbm.predict(X_test)\n",
    "print(f\"{r2_score(y_test1,y_pred1)} GBM\")\n",
    "\n",
    "# Random Forest Regressor:\n",
    "rf = RandomForestRegressor()\n",
    "rf.fit(X_train,y_train1)\n",
    "y_pred1 = rf.predict(X_test)\n",
    "print(f\"{r2_score(y_test1,y_pred1)} RF\")"
   ]
  },
  {
   "cell_type": "code",
   "execution_count": 32,
   "metadata": {},
   "outputs": [
    {
     "name": "stdout",
     "output_type": "stream",
     "text": [
      "Women (age 15-49 years) whose Body Mass Index (BMI) is below normal (BMI <18.5 kg/m2)21 (%)                                                                         0.543590\n",
      "sanitation %                                                                                                                                                        0.094712\n",
      "Women menstural hygiene                                                                                                                                             0.064103\n",
      "Average out-of-pocket expenditure per delivery in a public health facility (for last birth in the 5 years before the survey) (Rs.)                                  0.047269\n",
      "Women age 15 years and above who use any kind of tobacco (%)                                                                                                        0.032192\n",
      "Mothers who consumed iron folic acid for 180 days or more when they were pregnant (for last birth in the 5 years before the survey} (%)                             0.031367\n",
      "Female_school ever %                                                                                                                                                0.029211\n",
      "women child marriage %                                                                                                                                              0.026999\n",
      "Women age 15 years and above wih Elevated blood pressure (Systolic ?140 mm of Hg and/or Diastolic ?90 mm of Hg) or taking medicine to control blood pressure (%)    0.026637\n",
      "All women age 15-19 years who are anaemic22 (%)                                                                                                                     0.024476\n",
      "Births in the 5 years preceding the survey that are third or higher order (%)                                                                                       0.022187\n",
      "Women Alcohol %                                                                                                                                                     0.022100\n",
      "Non-pregnant women age 15-49 years who are anaemic (<12.0 g/dl)22 (%)                                                                                               0.018427\n",
      "Anaemic women %                                                                                                                                                     0.016729\n",
      "dtype: float64\n"
     ]
    }
   ],
   "source": [
    "\n",
    "# Get feature importances\n",
    "feature_importances = pd.Series(rf.feature_importances_, index=X_train.columns).sort_values(ascending=False)\n",
    "\n",
    "# Display feature importances\n",
    "print(feature_importances)"
   ]
  },
  {
   "cell_type": "markdown",
   "metadata": {},
   "source": [
    "### Conclusion:\n",
    "\n",
    "### from the above results, we can conclude that the most correlated factor for Child wasted occurence percentage in children is the percentage of below normal BMI in Women."
   ]
  },
  {
   "cell_type": "markdown",
   "metadata": {},
   "source": [
    "## Target2: Underweight %"
   ]
  },
  {
   "cell_type": "code",
   "execution_count": 33,
   "metadata": {},
   "outputs": [],
   "source": [
    "robust = RobustScaler()\n",
    "X = pd.DataFrame(robust.fit_transform(features_imp))\n",
    "y2 = pd.DataFrame(robust.fit_transform(pd.DataFrame(target_imp.iloc[:,1])))"
   ]
  },
  {
   "cell_type": "code",
   "execution_count": 34,
   "metadata": {},
   "outputs": [],
   "source": [
    "# Train test Split:\n",
    "\n",
    "X_train,X_test,y_train2,y_test2 = train_test_split(X,y2,test_size=0.2,random_state=2)"
   ]
  },
  {
   "cell_type": "code",
   "execution_count": 35,
   "metadata": {},
   "outputs": [
    {
     "data": {
      "text/html": [
       "<div>\n",
       "<style scoped>\n",
       "    .dataframe tbody tr th:only-of-type {\n",
       "        vertical-align: middle;\n",
       "    }\n",
       "\n",
       "    .dataframe tbody tr th {\n",
       "        vertical-align: top;\n",
       "    }\n",
       "\n",
       "    .dataframe thead th {\n",
       "        text-align: right;\n",
       "    }\n",
       "</style>\n",
       "<table border=\"1\" class=\"dataframe\">\n",
       "  <thead>\n",
       "    <tr style=\"text-align: right;\">\n",
       "      <th></th>\n",
       "      <th>0</th>\n",
       "    </tr>\n",
       "  </thead>\n",
       "  <tbody>\n",
       "    <tr>\n",
       "      <th>107</th>\n",
       "      <td>-0.621908</td>\n",
       "    </tr>\n",
       "    <tr>\n",
       "      <th>399</th>\n",
       "      <td>-0.961131</td>\n",
       "    </tr>\n",
       "    <tr>\n",
       "      <th>221</th>\n",
       "      <td>-0.579505</td>\n",
       "    </tr>\n",
       "    <tr>\n",
       "      <th>37</th>\n",
       "      <td>0.424028</td>\n",
       "    </tr>\n",
       "    <tr>\n",
       "      <th>524</th>\n",
       "      <td>-0.996466</td>\n",
       "    </tr>\n",
       "    <tr>\n",
       "      <th>...</th>\n",
       "      <td>...</td>\n",
       "    </tr>\n",
       "    <tr>\n",
       "      <th>13</th>\n",
       "      <td>1.194346</td>\n",
       "    </tr>\n",
       "    <tr>\n",
       "      <th>634</th>\n",
       "      <td>0.607774</td>\n",
       "    </tr>\n",
       "    <tr>\n",
       "      <th>633</th>\n",
       "      <td>0.876325</td>\n",
       "    </tr>\n",
       "    <tr>\n",
       "      <th>40</th>\n",
       "      <td>0.353357</td>\n",
       "    </tr>\n",
       "    <tr>\n",
       "      <th>650</th>\n",
       "      <td>0.508834</td>\n",
       "    </tr>\n",
       "  </tbody>\n",
       "</table>\n",
       "<p>142 rows × 1 columns</p>\n",
       "</div>"
      ],
      "text/plain": [
       "            0\n",
       "107 -0.621908\n",
       "399 -0.961131\n",
       "221 -0.579505\n",
       "37   0.424028\n",
       "524 -0.996466\n",
       "..        ...\n",
       "13   1.194346\n",
       "634  0.607774\n",
       "633  0.876325\n",
       "40   0.353357\n",
       "650  0.508834\n",
       "\n",
       "[142 rows x 1 columns]"
      ]
     },
     "execution_count": 35,
     "metadata": {},
     "output_type": "execute_result"
    }
   ],
   "source": [
    "# Renaming the columns of scaled Dfs:\n",
    "\n",
    "X_train.columns = features.columns\n",
    "X_test.columns = features.columns\n",
    "\n",
    "y_train1.rename(columns={1:'Children under 5 years who are underweight (weight-for-age)18 (%)'})\n",
    "y_test1.rename(columns = {1:'Children under 5 years who are underweight (weight-for-age)18 (%)'})"
   ]
  },
  {
   "cell_type": "markdown",
   "metadata": {},
   "source": [
    "### Model Training and Testing:\n"
   ]
  },
  {
   "cell_type": "code",
   "execution_count": 36,
   "metadata": {},
   "outputs": [
    {
     "name": "stderr",
     "output_type": "stream",
     "text": [
      "c:\\Users\\mehul\\anaconda3\\Lib\\site-packages\\sklearn\\ensemble\\_gb.py:437: DataConversionWarning: A column-vector y was passed when a 1d array was expected. Please change the shape of y to (n_samples, ), for example using ravel().\n",
      "  y = column_or_1d(y, warn=True)\n"
     ]
    },
    {
     "name": "stdout",
     "output_type": "stream",
     "text": [
      "0.6030265364711478 GBM\n"
     ]
    },
    {
     "name": "stderr",
     "output_type": "stream",
     "text": [
      "C:\\Users\\mehul\\AppData\\Local\\Temp\\ipykernel_16784\\1011858981.py:9: DataConversionWarning: A column-vector y was passed when a 1d array was expected. Please change the shape of y to (n_samples,), for example using ravel().\n",
      "  rf.fit(X_train,y_train2)\n"
     ]
    },
    {
     "name": "stdout",
     "output_type": "stream",
     "text": [
      "0.6129604445292061 RF\n"
     ]
    }
   ],
   "source": [
    "# Gradient Boosting Regressor:\n",
    "gbm = GradientBoostingRegressor()\n",
    "gbm.fit(X_train,y_train2)\n",
    "y_pred2 = gbm.predict(X_test)\n",
    "print(f\"{r2_score(y_test2,y_pred2)} GBM\")\n",
    "\n",
    "# Random Forest Regressor:\n",
    "rf = RandomForestRegressor()\n",
    "rf.fit(X_train,y_train2)\n",
    "y_pred2 = rf.predict(X_test)\n",
    "print(f\"{r2_score(y_test2,y_pred2)} RF\")"
   ]
  },
  {
   "cell_type": "code",
   "execution_count": 37,
   "metadata": {},
   "outputs": [
    {
     "name": "stdout",
     "output_type": "stream",
     "text": [
      "Women (age 15-49 years) whose Body Mass Index (BMI) is below normal (BMI <18.5 kg/m2)21 (%)                                                                         0.542868\n",
      "sanitation %                                                                                                                                                        0.093563\n",
      "Women menstural hygiene                                                                                                                                             0.070026\n",
      "Average out-of-pocket expenditure per delivery in a public health facility (for last birth in the 5 years before the survey) (Rs.)                                  0.044259\n",
      "Women age 15 years and above who use any kind of tobacco (%)                                                                                                        0.033159\n",
      "Mothers who consumed iron folic acid for 180 days or more when they were pregnant (for last birth in the 5 years before the survey} (%)                             0.031383\n",
      "Female_school ever %                                                                                                                                                0.027109\n",
      "women child marriage %                                                                                                                                              0.026849\n",
      "Women age 15 years and above wih Elevated blood pressure (Systolic ?140 mm of Hg and/or Diastolic ?90 mm of Hg) or taking medicine to control blood pressure (%)    0.026484\n",
      "Women Alcohol %                                                                                                                                                     0.024911\n",
      "All women age 15-19 years who are anaemic22 (%)                                                                                                                     0.023333\n",
      "Births in the 5 years preceding the survey that are third or higher order (%)                                                                                       0.020950\n",
      "Anaemic women %                                                                                                                                                     0.018332\n",
      "Non-pregnant women age 15-49 years who are anaemic (<12.0 g/dl)22 (%)                                                                                               0.016774\n",
      "dtype: float64\n"
     ]
    }
   ],
   "source": [
    "\n",
    "# Get feature importances\n",
    "feature_importances = pd.Series(rf.feature_importances_, index=X_train.columns).sort_values(ascending=False)\n",
    "\n",
    "# Display feature importances\n",
    "print(feature_importances)"
   ]
  },
  {
   "cell_type": "markdown",
   "metadata": {},
   "source": [
    "### Conclusion:\n",
    "\n",
    "### from the above results, we can conclude that the for the Below Average BMI is the inly factor highly correlated to Underweightedness in Children"
   ]
  },
  {
   "cell_type": "markdown",
   "metadata": {},
   "source": [
    "# Some Visualizations:"
   ]
  },
  {
   "cell_type": "code",
   "execution_count": 49,
   "metadata": {},
   "outputs": [
    {
     "data": {
      "image/png": "[encoded data removed]",
      "text/plain": [
       "<Figure size 640x480 with 1 Axes>"
      ]
     },
     "metadata": {},
     "output_type": "display_data"
    }
   ],
   "source": [
    "plt.scatter(X_test[\"Women (age 15-49 years) whose Body Mass Index (BMI) is below normal (BMI <18.5 kg/m2)21 (%)\"],y_test1, color = \"red\")\n",
    "plt.xlabel(\"Percentage of women having below normal BMI (BMI <18.5 kg/m2)21 (%)\")\n",
    "plt.ylabel(\"Percentage of severly wasted Children\")\n",
    "plt.title(\"Percentage of women having below normal BMI (BMI <18.5 kg/m2)21 (%) vs. Percentage of severely wasted Children\")\n",
    "plt.show()\n"
   ]
  },
  {
   "cell_type": "code",
   "execution_count": 50,
   "metadata": {},
   "outputs": [
    {
     "data": {
      "image/png": "[encoded data removed]",
      "text/plain": [
       "<Figure size 640x480 with 1 Axes>"
      ]
     },
     "metadata": {},
     "output_type": "display_data"
    }
   ],
   "source": [
    "plt.scatter(X_test[\"Women (age 15-49 years) whose Body Mass Index (BMI) is below normal (BMI <18.5 kg/m2)21 (%)\"],y_test2, color = \"blue\")\n",
    "plt.xlabel(\"Percentage of women having below normal BMI (BMI <18.5 kg/m2)21 (%)\")\n",
    "plt.ylabel(\"Percentage of Underweight children\")\n",
    "plt.title(\"Percentage of women having below normal BMI (BMI <18.5 kg/m2)21 (%) vs. Percentage of Underweight children\")\n",
    "plt.show()"
   ]
  },
  {
   "cell_type": "code",
   "execution_count": null,
   "metadata": {},
   "outputs": [],
   "source": []
  }
 ],
 "metadata": {
  "kernelspec": {
   "display_name": "Python 3",
   "language": "python",
   "name": "python3"
  },
  "language_info": {
   "codemirror_mode": {
    "name": "ipython",
    "version": 3
   },
   "file_extension": ".py",
   "mimetype": "text/x-python",
   "name": "python",
   "nbconvert_exporter": "python",
   "pygments_lexer": "ipython3",
   "version": "3.11.9"
  }
 },
 "nbformat": 4,
 "nbformat_minor": 2
}
