{
 "cells": [
  {
   "cell_type": "code",
   "execution_count": 1,
   "metadata": {},
   "outputs": [],
   "source": [
    "# Getting all the libraries imported \n",
    "\n",
    "import pandas as pd \n",
    "import numpy as np"
   ]
  },
  {
   "cell_type": "code",
   "execution_count": 2,
   "metadata": {},
   "outputs": [],
   "source": [
    "# loading the csv files \n",
    "\n",
    "dist =  pd.read_csv(\"C:\\\\Users\\\\mehul\\\\OneDrive\\\\Desktop\\\\NHFS Research\\\\Data\\\\District_Income_and_Per_Capita_Income.csv\")"
   ]
  },
  {
   "cell_type": "code",
   "execution_count": 3,
   "metadata": {},
   "outputs": [
    {
     "name": "stdout",
     "output_type": "stream",
     "text": [
      "<class 'pandas.core.frame.DataFrame'>\n",
      "RangeIndex: 236 entries, 0 to 235\n",
      "Data columns (total 8 columns):\n",
      " #   Column                                                                                                     Non-Null Count  Dtype  \n",
      "---  ------                                                                                                     --------------  -----  \n",
      " 0   Taluks_Districts                                                                                           236 non-null    object \n",
      " 1     2019_20 At Current Prices 2019_20_Gross District Domestic Product GDDP_Rs. in Lakhs                      234 non-null    float64\n",
      " 2     2019_20 At Current Prices 2019_20_Net District Domestic Product _NDDP_Rs in Lakhs                        234 non-null    float64\n",
      " 3   2019_20_ At Constant Prices _2019_20_Base Year 2011_12_Gross District Domestic Product_GDDP_ Rs. in Lakhs  234 non-null    float64\n",
      " 4    2019_20_ At Constant Prices _2019_20_Base Year 2011_12_Net District Domestic Product _NDDP_Rs in Lakhs    234 non-null    float64\n",
      " 5    Per capita Income In Rs_2019_20_At Current Prices 2019_20                                                 234 non-null    float64\n",
      " 6   Per capita Income In Rs_2018_19_At constant Prices 2018_19                                                 234 non-null    float64\n",
      " 7    Rank                                                                                                      235 non-null    float64\n",
      "dtypes: float64(7), object(1)\n",
      "memory usage: 14.9+ KB\n"
     ]
    }
   ],
   "source": [
    "dist.info()"
   ]
  },
  {
   "cell_type": "code",
   "execution_count": null,
   "metadata": {},
   "outputs": [],
   "source": []
  }
 ],
 "metadata": {
  "kernelspec": {
   "display_name": "Python 3",
   "language": "python",
   "name": "python3"
  },
  "language_info": {
   "codemirror_mode": {
    "name": "ipython",
    "version": 3
   },
   "file_extension": ".py",
   "mimetype": "text/x-python",
   "name": "python",
   "nbconvert_exporter": "python",
   "pygments_lexer": "ipython3",
   "version": "3.12.0"
  }
 },
 "nbformat": 4,
 "nbformat_minor": 2
}
